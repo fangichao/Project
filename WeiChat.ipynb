{
 "cells": [
  {
   "cell_type": "markdown",
   "metadata": {},
   "source": [
    "# 1、项目说明\n",
    "---\n",
    "## 本次项目主要实现了以下功能：\n",
    "#### 2、微信好友信息的获取与文件存储\n",
    "#### 3、微信好友性别分析\n",
    "#### 4、微信好友地区分布可视化\n",
    "#### 5、微信好友个性签名词云图及好友备注词云图\n",
    "#### 6、微信好友朋友圈权限分析\n",
    "#### 7、好友头像分析\n",
    "---\n",
    "\n",
    "* 本项目主要参考这篇【[博客1](https://blog.csdn.net/tangyang8941/article/details/82837284)】.但是有些地方因为未成功就采用了其他的方案。在好友地区分布时主要参考了【[热力图](https://www.cnblogs.com/FanLeiData/articles/7675890.html)】。\n",
    "* 此项目可以说涉及到了很多方面，让自己学到了很多。以前没有重视的知识，现在也发现了自己的不足之处，可以说是练手的一个灰常灰常好 的项目。\n",
    "* 本项目仍有问题未解决，大家如果有好的解决方法一定要告诉我呀！多谢！"
   ]
  },
  {
   "cell_type": "markdown",
   "metadata": {},
   "source": [
    "---\n",
    "# 2、微信好友信息获取与文件存储\n",
    "### 2.1、信息获取：\n",
    "* 这部分比较简单，主要涉及到itchat包的使用。主要过程为：模拟微信登陆（扫码）、返回好友信息。\n",
    "* 首先，把所需要的包导进来吧！"
   ]
  },
  {
   "cell_type": "code",
   "execution_count": 3,
   "metadata": {},
   "outputs": [],
   "source": [
    "import itchat\n",
    "import pandas as pd\n",
    "import csv"
   ]
  },
  {
   "cell_type": "code",
   "execution_count": 4,
   "metadata": {},
   "outputs": [],
   "source": [
    "def get_data():\n",
    "    itchat.auto_login()\n",
    "    friends = itchat.get_friends(update=True)\n",
    "    return friends"
   ]
  },
  {
   "cell_type": "markdown",
   "metadata": {},
   "source": [
    "* 下面直接调用函数即可获取好友信息，这里你执行后可以看出返回的是一个由字典组成的列表。竟然有这么多属性！\n",
    "* 设计到个人隐私，这里就把调用的注释掉了，大家运行时只要去掉注释即可。另外，之所以打印出来是方便分析一下都有什么数据，数据的格式是什么样的。知道了数据结构和内容后，注释掉吧，看着太乱😵！"
   ]
  },
  {
   "cell_type": "code",
   "execution_count": 5,
   "metadata": {},
   "outputs": [],
   "source": [
    "#get_data()"
   ]
  },
  {
   "cell_type": "markdown",
   "metadata": {},
   "source": [
    "### 2.2、数据解析\n",
    "* 获取到了数据之后，一看这么多！那就对数据进行处理吧，把我们想要的数据提取出来保存。这里主要想分析一下几项：昵称、备注名、性别、省份、城市、个性签名、星际好友、朋友圈权限设置。\n",
    "* 函数的唯一参数就是我们上面爬到的信息。"
   ]
  },
  {
   "cell_type": "code",
   "execution_count": 6,
   "metadata": {},
   "outputs": [],
   "source": [
    "def parse_data(data):\n",
    "    friends = []\n",
    "    for item in data[1:]:  # 第一个元素是自己，排除掉\n",
    "        friend = {\n",
    "            'NickName': item['NickName'],  # 昵称\n",
    "            'RemarkName': item['RemarkName'],  # 备注名\n",
    "            'Sex': item['Sex'],  # 性别：1男，2女，0未设置\n",
    "            'Province': item['Province'],  # 省份\n",
    "            'City': item['City'],  # 城市\n",
    "            'Signature': item['Signature'].replace('\\n', ' ').replace(',', ' '),  # 个性签名（处理签名内容换行的情况）\n",
    "            'StarFriend': item['StarFriend'],  # 星标好友：1是，0否\n",
    "            'ContactFlag': item['ContactFlag']  # 好友类型及权限：1和3好友，259和33027不让他看我的朋友圈，65539不看他的朋友圈，65795两项设置全禁止\n",
    "        }\n",
    "        # print(friend)\n",
    "        friends.append(friend)\n",
    "    return friends"
   ]
  },
  {
   "cell_type": "code",
   "execution_count": 7,
   "metadata": {},
   "outputs": [
    {
     "name": "stderr",
     "output_type": "stream",
     "text": [
      "Getting uuid of QR code.\n",
      "Downloading QR code.\n",
      "Please scan the QR code to log in.\n",
      "Please press confirm on your phone.\n",
      "Log in time out, reloading QR code.\n",
      "Getting uuid of QR code.\n",
      "Downloading QR code.\n",
      "Please scan the QR code to log in.\n",
      "Please press confirm on your phone.\n",
      "Loading the contact, this may take a little while.\n",
      "Login successfully as Uncle 德鲁\n"
     ]
    }
   ],
   "source": [
    "unparsed_friends = get_data()\n",
    "parsed_friends = parse_data(unparsed_friends)"
   ]
  },
  {
   "cell_type": "markdown",
   "metadata": {},
   "source": [
    "* 来看看解析后的数据吧\n",
    "* <img src=\"pic/1.jpg\">"
   ]
  },
  {
   "cell_type": "code",
   "execution_count": 10,
   "metadata": {},
   "outputs": [],
   "source": [
    "# parsed_friends[0]"
   ]
  },
  {
   "cell_type": "markdown",
   "metadata": {},
   "source": [
    "### 2.3、数据保存\n",
    "* 接下来将解析好的数据保存到csv文件中，以便后续使用。【博客1】采用将数据存储为txt文件，并且存储的过程中需要反复的打开文件。正好之前自己写了一篇博客笔记【[Pandas 数据加载、存储&文件格式](https://blog.csdn.net/FANGLICHAOLIUJIE/article/details/83720154)】涉及到csv文件的读写，那就实践一下吧！"
   ]
  },
  {
   "cell_type": "code",
   "execution_count": 12,
   "metadata": {},
   "outputs": [],
   "source": [
    "def to_csv(data):\n",
    "    with open('friends.csv', 'w', encoding='utf-8', newline='') as f:\n",
    "        writer = csv.writer(f)\n",
    "        for item in data:\n",
    "            contents = (item['NickName'], item['RemarkName'], item['Sex'], item['Province'],\n",
    "                      item['City'], item['Signature'],item['StarFriend'], item['ContactFlag'])\n",
    "            writer.writerow(contents)"
   ]
  },
  {
   "cell_type": "markdown",
   "metadata": {},
   "source": [
    "* 调用函数即可，传入解析后的parsed_friends，会生成一个csv文件。第一部分数据获取与存储大功告成！"
   ]
  },
  {
   "cell_type": "code",
   "execution_count": 13,
   "metadata": {},
   "outputs": [],
   "source": [
    "to_csv(parsed_friends)"
   ]
  },
  {
   "cell_type": "markdown",
   "metadata": {},
   "source": [
    "---\n",
    "# 3、微信好友性别分析\n",
    "### 3.1、男女比列可视化\n",
    "* 这里主要用到一个包：pyecharts。它是一个用于生成Echarts图表的类库，是百度开源的一个数据可视化JS库，主要用于数据可视化。\n",
    "* 注意：如果使用的IDE是Pycharm,也要在解释器中导入pyecharts_snapshot包。"
   ]
  },
  {
   "cell_type": "code",
   "execution_count": 15,
   "metadata": {},
   "outputs": [],
   "source": [
    "import csv \n",
    "from pyecharts import Pie\n",
    "def view_sex():\n",
    "    sex = []\n",
    "    with open('friends.csv',mode='r',encoding='utf-8') as f:\n",
    "        rows = csv.reader(f)\n",
    "        for row in rows:\n",
    "            sex.append(row[2])   #进行了修改\n",
    "    attr = ['帅哥','美女','未知']\n",
    "    value = [sex.count('1'),sex.count('2'),sex.count('0')]\n",
    "    pie = Pie(\"好友性别比列\",'好友总人数:{}'.format(len(sex)),title_pos='center')\n",
    "    \n",
    "    pie.add('',attr,value,radius=[30,75],rosetype='area',\n",
    "            is_label_show=True,is_legend_show=True,legend_top='bottom')\n",
    "    pie.render('好友性别比列.html')"
   ]
  },
  {
   "cell_type": "code",
   "execution_count": 16,
   "metadata": {},
   "outputs": [],
   "source": [
    "view_sex()"
   ]
  },
  {
   "cell_type": "markdown",
   "metadata": {},
   "source": [
    "* 执行完上述指令会在当前文件夹生成一个“好友性别比列.html”，双击即可.\n",
    "* 男性70%，🌚\n",
    "\n",
    "* <img src=\"pic/2.png\">"
   ]
  },
  {
   "cell_type": "markdown",
   "metadata": {},
   "source": [
    "---\n",
    "# 4、微信好友地区分布分析\n",
    "### 4.1、【博客1】可视化效果\n",
    "* 这里是遇到问题比较多的，虽然最中把分布图显示出来了，但是却没有伟大祖国的轮廓，只显示南海那一块和分布数据点。网上找解决办法，多是说几个必须的包没有安装全，可是我都安装了。最终也没有解决，大家可以参考【博客1】自己实践，如果可以了，记得告诉我解决方案。多谢！\n",
    "* 无奈只能使用其他的解决方案：之前练习过一个项目【[爬虫&租房&路径规划](https://blog.csdn.net/FANGLICHAOLIUJIE/article/details/83686463)】倒是使用过高德地图，这次就i也这样吧，不过使用的是百度地图。\n",
    "* 这里具体大家参阅【[博客1](https://blog.csdn.net/tangyang8941/article/details/82837284)】"
   ]
  },
  {
   "cell_type": "code",
   "execution_count": 17,
   "metadata": {},
   "outputs": [],
   "source": [
    "from collections import Counter\n",
    "from pyecharts import Geo,Bar\n",
    "import json\n",
    "import matplotlib"
   ]
  },
  {
   "cell_type": "code",
   "execution_count": 18,
   "metadata": {},
   "outputs": [],
   "source": [
    "def render():\n",
    "    cities = []\n",
    "    with open('friends.csv','r',encoding='utf-8') as f:\n",
    "        rows = csv.reader(f)\n",
    "        for row in rows:\n",
    "            city = row[4]\n",
    "            if city !='':\n",
    "                cities.append(city)\n",
    "    handle(cities)\n",
    "    data = Counter(cities).most_common()\n",
    "    # print(data)\n",
    "    geo = Geo('好友位置分布','',title_color='#fff',title_pos='center',width=1200,background_color='#404a59')\n",
    "    attr, value = geo.cast(data)\n",
    "    position_dict = dict(zip(attr,value))\n",
    "    print(position_dict)\n",
    "    \n",
    "    geo.add('',attr,value,maptype='china',visual_range=[0,500],visual_text_color='#fff',symbol_size=15,is_visualmap=True,is_piecewise=True)\n",
    "    geo.render('好友位置分布图.html')\n",
    "    \n",
    "    data_top20 = Counter(cities).most_common(20)\n",
    "    bar = Bar('好友所在城市Top20',title_pos='center',width=1200,height=600)\n",
    "    attr,value = bar.cast(data_top20)\n",
    "    bar.add('',attr,value,is_visualmap=True,visual_text_color='#fff',is_more_utils=True,is_label_show=True)\n",
    "    bar.render('好友所在城市Top20.html')\n",
    "\n",
    "def handle(cities):\n",
    "    data = None\n",
    "    with open('F:/PycharmProjects/ML/VChat/venv/Lib/site-packages/pyecharts/datasets/city_coordinates.json',\n",
    "              mode='r',encoding='utf-8') as f:\n",
    "        data = json.loads(f.read())\n",
    "    data_new = data.copy()\n",
    "    for city in set(cities):\n",
    "        if city == '':\n",
    "            while city in cities:\n",
    "                cities.remove(city)\n",
    "        count = 0\n",
    "        for k in data.keys():\n",
    "            count += 1\n",
    "            if k  == city:\n",
    "                break\n",
    "            if k.startswith(city):\n",
    "                data_new[city] = data[k]\n",
    "                break\n",
    "            if k.startswith(city[0:-1]) and len(city)>=3:\n",
    "                data_new[city] = data[k]\n",
    "                break\n",
    "            if count ==len(data):\n",
    "                while city in cities:\n",
    "                    cities.remove(city)\n",
    "\n",
    "    with open('F:/PycharmProjects/ML/VChat/venv/Lib/site-packages/pyecharts/datasets/city_coordinates.json',\n",
    "              'w',encoding='utf-8') as f:\n",
    "        f.write(json.dumps(data_new, ensure_ascii=False))"
   ]
  },
  {
   "cell_type": "code",
   "execution_count": 20,
   "metadata": {},
   "outputs": [],
   "source": [
    "#render()"
   ]
  },
  {
   "cell_type": "markdown",
   "metadata": {},
   "source": [
    "* 上面的代码我是用的是Pycharm，大家要注意修改文件的路径。\n",
    "* 同样产生两个.html文件，效果如下图：\n",
    "<img src=\"pic/3.png\">\n",
    "<img src=\"pic/4.png\">"
   ]
  },
  {
   "cell_type": "markdown",
   "metadata": {},
   "source": [
    "* 由上图可知，好友主要分布在南京（上学）、徐州（老家）和广州（额，出差）。"
   ]
  },
  {
   "cell_type": "markdown",
   "metadata": {},
   "source": [
    "### 4.2、编写html文件实现可视化\n",
    "* 这里是迫不得已采取的措施，但是也不太难。主要就是提取数据（城市：好友数量），然后根据城市利用百度地图API生成各个城市对应的经纬度，然后将经纬度保存到JSON文件。\n",
    "* 具体可以参考【[调用百度地图API制作热力图](https://www.cnblogs.com/FanLeiData/articles/7675890.html)】、【[百度地图开放平台](http://lbsyun.baidu.com/jsdemo.htm#c1_15)】\n",
    "* 可以在这：【[获取密钥](http://lbsyun.baidu.com/index.php?title=webapi/guide/webservice-geocoding)】"
   ]
  },
  {
   "cell_type": "code",
   "execution_count": 25,
   "metadata": {},
   "outputs": [],
   "source": [
    "import json\n",
    "from urllib.request import urlopen,quote\n",
    "import requests\n",
    "import csv\n",
    "import pandas as pd\n",
    "from collections import Counter\n",
    "\n",
    "def getlnglat(address):\n",
    "    url = 'http://api.map.baidu.com/geocoder/v2/'\n",
    "    output = 'json'\n",
    "    ak = '使用你自己的密钥'\n",
    "    add = quote(address)  # 由于本文城市变量为中文，为防止乱码，先用quote进行编码\n",
    "    uri = url + '?' + 'address=' + add + '&output=' + output + '&ak=' + ak\n",
    "    req = urlopen(uri)\n",
    "    res = req.read().decode()  # 将其他编码的字符串解码成unicode\n",
    "    temp = json.loads(res)  # 对json数据进行解析\n",
    "    return temp\n",
    "\n",
    "def render():\n",
    "    cities_duplicate = []\n",
    "    with open('friends.csv','r',encoding='utf-8') as f:\n",
    "        rows = csv.reader(f)\n",
    "        for row in rows:\n",
    "            city = row[4]\n",
    "            if city !='':\n",
    "                cities_duplicate.append(city)\n",
    "    data = Counter(cities_duplicate).most_common()\n",
    "    return data\n",
    "\n",
    "\n",
    "'''经纬度写入JSON文件'''\n",
    "def JWD_to_file():\n",
    "    file = open('city_counts.json','w') #建立json数据文件\n",
    "    city_count = render()\n",
    "    for item in city_count:\n",
    "        if item[0] != \"Oakland\":\n",
    "            city = str(item[0]).strip()\n",
    "            counts = str(item[1]*10).strip()\n",
    "            lng = getlnglat(city)['result']['location']['lng']\n",
    "            lat = getlnglat(city)['result']['location']['lat']\n",
    "            str_temp = '{\"lng\":' + str(lng) + ',\"lat\":' + str(lat) + ',\"count\":' + str(counts) +'},'\n",
    "\n",
    "            file.write(str_temp+'\\n') #写入文档\n",
    "    file.close() #保存"
   ]
  },
  {
   "cell_type": "code",
   "execution_count": 23,
   "metadata": {},
   "outputs": [],
   "source": [
    "JWD_to_file()"
   ]
  },
  {
   "cell_type": "markdown",
   "metadata": {},
   "source": [
    "* 测试一下吧："
   ]
  },
  {
   "cell_type": "code",
   "execution_count": 26,
   "metadata": {},
   "outputs": [
    {
     "name": "stdout",
     "output_type": "stream",
     "text": [
      "118.77807440802562   32.05723550180587\n"
     ]
    },
    {
     "name": "stderr",
     "output_type": "stream",
     "text": [
      "LOG OUT!\n",
      "INFO:itchat:LOG OUT!\n"
     ]
    }
   ],
   "source": [
    "lat = getlnglat(\"南京\")['result']['location']['lat']\n",
    "lng = getlnglat(\"南京\")['result']['location']['lng']\n",
    "print(lng,' ',lat)"
   ]
  },
  {
   "cell_type": "markdown",
   "metadata": {},
   "source": [
    "* 然后在pycharm中新建一个html文件，将【[百度地图开放平台](http://lbsyun.baidu.com/jsdemo.htm#c1_15)】中的代码复制粘贴，然后打开刚才生成的JSON文件，用里面的数据替换掉 var points中的数据。\n",
    "* 另外可以参考官方API修改一些参数，这里我修改了heatmapOverlay.setDataSet({data:points,max:100})的max参数，根据情况选择合理的参数；还把中心点坐标（原来是北京）修改为南京。\n",
    "* 以为好友数量不多，而且分布较为集中，实际的效果也不尽人意。\n",
    "* <img src=\"pic/5.png\">\n",
    "<img src=\"pic/6.png\">"
   ]
  },
  {
   "cell_type": "markdown",
   "metadata": {},
   "source": [
    "---\n",
    "# 5、个性签名及备注云图\n",
    "* 一开始整个项目都是在Pycharm上编写的，但是这里又遇到问题了。制作词云图需要用到wordcloud包，可是在解释权中导入时报错。包已经安装了，在命令行可以成功的导入并使用。提示安装VC++14，真心不想装。把问题抛出来：大家有没有其它解决方式！\n",
    "<img src=\"pic/7.png\">"
   ]
  },
  {
   "cell_type": "markdown",
   "metadata": {},
   "source": [
    "### 5.1、个性签名词云图\n",
    "* 既然在命令行可以使用wordcloud,好吧，那这部分就在jupyter上实验吧！"
   ]
  },
  {
   "cell_type": "code",
   "execution_count": 1,
   "metadata": {},
   "outputs": [],
   "source": [
    "import jieba\n",
    "import csv\n",
    "import matplotlib.pyplot as plt\n",
    "from wordcloud import WordCloud,STOPWORDS"
   ]
  },
  {
   "cell_type": "code",
   "execution_count": 12,
   "metadata": {},
   "outputs": [],
   "source": [
    "def get_signature():    \n",
    "    signatures = []\n",
    "    with open('friends.csv',mode='r',encoding='utf-8') as f:\n",
    "        rows = csv.reader(f)\n",
    "        for row in rows:\n",
    "            signature = row[5]\n",
    "            if signature != '':\n",
    "                signatures.append(signature)\n",
    "    split = jieba.cut(str(signatures), cut_all=False)\n",
    "    words = ''.join(split)\n",
    "    stopwords = STOPWORDS.copy()\n",
    "    stopwords.add('span')\n",
    "    stopwords.add('class')\n",
    "    stopwords.add('emoji')\n",
    "    stopwords.add('emoji1f334')\n",
    "    stopwords.add('emoji1f388')\n",
    "    stopwords.add('emoji1f33a')\n",
    "    stopwords.add('emoji1f33c')\n",
    "    stopwords.add('emoji1f633')\n",
    "    bg_image = plt.imread('bg.jpg')\n",
    "    # 设置词云参数，参数分别表示：画布宽高、背景颜色、背景图形状、字体、屏蔽词、最大词的字体大小\n",
    "    wc = WordCloud(width=1024, height=768, background_color='white', mask=bg_image, font_path='STKAITI.TTF',\n",
    "               stopwords=stopwords, max_font_size=400, random_state=50)\n",
    "    wc.generate_from_text(words)\n",
    "    plt.imshow(wc)\n",
    "    plt.axis('off')\n",
    "    wc.to_file('signature.jpg')\n"
   ]
  },
  {
   "cell_type": "code",
   "execution_count": 13,
   "metadata": {},
   "outputs": [
    {
     "data": {
      "image/png": "[encoded data removed]",
      "text/plain": [
       "<Figure size 432x288 with 1 Axes>"
      ]
     },
     "metadata": {},
     "output_type": "display_data"
    }
   ],
   "source": [
    "get_signature()"
   ]
  },
  {
   "cell_type": "markdown",
   "metadata": {},
   "source": [
    "### 5.2 备注词云图"
   ]
  },
  {
   "cell_type": "code",
   "execution_count": 33,
   "metadata": {},
   "outputs": [],
   "source": [
    "def remark():    \n",
    "    signatures = []\n",
    "    with open('friends.csv',mode='r',encoding='utf-8') as f:\n",
    "        rows = csv.reader(f)\n",
    "        for row in rows:\n",
    "            signature = row[1]\n",
    "            if signature != '':\n",
    "                signatures.append(signature)\n",
    "    split = jieba.cut(str(signatures), cut_all=False)\n",
    "    words = ''.join(split)\n",
    "    bg_image = plt.imread('bg.jpg')\n",
    "    # 设置词云参数，参数分别表示：画布宽高、背景颜色、背景图形状、字体、屏蔽词、最大词的字体大小\n",
    "    wc = WordCloud(width=1024, height=768, background_color='white', mask=bg_image, font_path='STKAITI.TTF',\n",
    "                max_font_size=400, random_state=50)\n",
    "    wc.generate_from_text(words)\n",
    "    plt.imshow(wc)\n",
    "    plt.axis('off')\n",
    "    wc.to_file('remark.jpg')"
   ]
  },
  {
   "cell_type": "code",
   "execution_count": 28,
   "metadata": {},
   "outputs": [],
   "source": [
    "# 涉及到隐私，so...\n",
    "#remark()"
   ]
  },
  {
   "cell_type": "markdown",
   "metadata": {},
   "source": [
    "---\n",
    "# 6、朋友圈权限分析"
   ]
  },
  {
   "cell_type": "code",
   "execution_count": 26,
   "metadata": {},
   "outputs": [],
   "source": [
    "from pyecharts import Bar\n",
    "\n",
    "def relation(): \n",
    "    star_list = []\n",
    "    deny_see_list = []\n",
    "    no_see_list = []\n",
    "    with open('friends.csv',mode='r',encoding='utf-8') as f:\n",
    "        rows = csv.reader(f)\n",
    "        for row in rows:\n",
    "            name = row[1] if row[1]!='' else row[0]\n",
    "            star = row[6]\n",
    "            if star == '1':\n",
    "                star_list.append(name)\n",
    "            flag = row[7].replace('\\n','')\n",
    "            if flag in ['259','33027','65759']:\n",
    "                deny_see_list.append(name)\n",
    "            if flag in ['65539','65795']:\n",
    "                no_see_list.append(name)\n",
    "    print('星际好友：', star_list)\n",
    "    print('不让看我的朋友圈： ',deny_see_list)\n",
    "    print('不看她的朋友圈： ',no_see_list)\n",
    "    attr = ['星际好友','不让看我的朋友圈','不看她的朋友圈']\n",
    "    value = [len(star_list),len(deny_see_list),len(no_see_list)]\n",
    "    bar = Bar('权限分析','',title_pos='center')\n",
    "    bar.add('',attr,value,is_visualmap=True,os_label_show=True)\n",
    "    bar.render('权限分析.html')"
   ]
  },
  {
   "cell_type": "code",
   "execution_count": 34,
   "metadata": {},
   "outputs": [],
   "source": [
    "#relation()\n",
    "#'''结果大概如下：'''\n",
    "# 星际好友： [张三]\n",
    "# 不让看我的朋友圈：  ['李四', '王五']\n",
    "# 不看她的朋友圈：  []"
   ]
  },
  {
   "cell_type": "markdown",
   "metadata": {},
   "source": [
    "* 结果如图：哪位没让看？\n",
    "<img src=\"pic/8.png\">"
   ]
  },
  {
   "cell_type": "markdown",
   "metadata": {},
   "source": [
    "---\n",
    "# 7、头像分析\n",
    "---\n",
    "### 7.1、 获取头像\n",
    "* 获取所有好友的头像并保存到指定的文件夹下（这里为headImage）,每个图片的命名方式为：如果有备注则使用备注，否则使用Nickname。\n",
    "* 注意：有时候可能在获取的过程中突然意外终止，可能是你的好友的好友备注或者Nickname中含有一些特殊的字符（后者可能性较大），这时候一个是增加字符处理的功能，另一种方式改个“正常”的备注。我在运行时意外中断，原因是 有个好友备注含有 | ，把它去掉就好了。"
   ]
  },
  {
   "cell_type": "code",
   "execution_count": 40,
   "metadata": {},
   "outputs": [],
   "source": [
    "import itchat\n",
    "import os\n",
    "def get_image():\n",
    "    itchat.auto_login()\n",
    "    friends = itchat.get_friends(update=True)\n",
    "    base_path = 'headImage'\n",
    "    if not os.path.exists(base_path):\n",
    "        os.mkdir(base_path)\n",
    "    \n",
    "    for friend in friends:\n",
    "        img_data = itchat.get_head_img(userName=friend['UserName'])\n",
    "        img_name = friend['RemarkName'] if friend['RemarkName'] != '' else friend['NickName']\n",
    "        img_file = os.path.join(base_path,img_name + '.jpg')\n",
    "        print(img_file)\n",
    "        with open(img_file,'wb') as f:\n",
    "            f.write(img_data)    "
   ]
  },
  {
   "cell_type": "code",
   "execution_count": 44,
   "metadata": {},
   "outputs": [],
   "source": [
    "# get_image()  大家可以自己执行该指令，将会打印出已经获取到头像的所有名字"
   ]
  },
  {
   "cell_type": "markdown",
   "metadata": {},
   "source": [
    "### 7.2、分析头像(更新18/11/9)\n",
    "* 这里使用到了腾讯优图提供的人脸识别技术，对人脸进行检测和分析。具体请参阅[腾讯优图](https://open.youtu.qq.com/#/open/home)。感觉发现了新天地一样，哈哈\n",
    "* 具体流程看这里：【[接入流程](https://open.youtu.qq.com/#/open/developer/join)】。\n",
    "* 这里是优图【[Python_SDK](https://github.com/Tencent-YouTu/Python_sdk)】，有使用指导。\n",
    "* 这里是【[人脸检测与分析](https://open.youtu.qq.com/#/open/developer/face-detect)】，可以看一下返回的数据结构，然后提取自己需要的."
   ]
  },
  {
   "cell_type": "code",
   "execution_count": 9,
   "metadata": {},
   "outputs": [],
   "source": [
    "import TencentYoutuyun"
   ]
  },
  {
   "cell_type": "code",
   "execution_count": 12,
   "metadata": {},
   "outputs": [],
   "source": [
    "import itchat\n",
    "from pyecharts import Pie\n",
    "import os\n",
    "import csv\n",
    "from PIL import Image\n",
    "import math\n",
    "\n",
    "def analyse_headImg():\n",
    "    '''向腾讯优图平台申请的开发密钥，此处需要替换为自己的密钥'''\n",
    "    appid = '***'       # appid： 业务中的应用标识AppId\n",
    "    secret_id = '**'   # secret_id：秘钥SecretId\n",
    "    secret_key = '**'   # secret_key：秘钥SecretKey\n",
    "    userid = '**'       # userid：用户id\n",
    "    # end_point` 服务后台路径，默认是优图开放平台，支持腾讯云，人脸核身(核身服务需联系腾讯优图商务开通权限)\n",
    "    end_point = TencentYoutuyun.conf.API_YOUTU_END_POINT\n",
    "    youtu = TencentYoutuyun.YouTu(appid, secret_id, secret_key, userid, end_point)\n",
    "\n",
    "    use_face = 0\n",
    "    not_use_face = 0\n",
    "    base_path = 'headImage'\n",
    "    for file_name in os.listdir(base_path):\n",
    "        img_path = os.path.join(base_path,file_name)\n",
    "        result = youtu.DetectFace(img_path)\n",
    "        # print(result)\n",
    "        if result['errorcode'] == 0:\n",
    "            use_face += 1\n",
    "            gender = '男' if result['face'][0]['gender'] > 50 else '女'\n",
    "            age = result['face'][0]['age']\n",
    "            beauty = result['face'][0]['beauty']\n",
    "            glasses = '不带眼镜' if result['face'][0]['glass']==0 else '带眼镜'\n",
    "            with open('header.txt',mode='a',encoding='utf-8') as f:\n",
    "                f.write('%s,%s,%d,%d,%s\\n' % (file_name[:-4], gender, age, beauty, glasses))\n",
    "        else:\n",
    "            not_use_face += 1\n",
    "    attr = ['使用人脸','未使用人脸']\n",
    "    value = [use_face, not_use_face]\n",
    "    pie = Pie('好友头像分析', '', title_pos='center')\n",
    "    pie.add('',attr,value,radius=[30,75],is_label_show=True,is_legend_show=True,legend_top='bottom')\n",
    "    pie.render('好友头像分析.html')"
   ]
  },
  {
   "cell_type": "code",
   "execution_count": 11,
   "metadata": {},
   "outputs": [],
   "source": [
    "analyse_headImg()"
   ]
  },
  {
   "cell_type": "markdown",
   "metadata": {},
   "source": [
    "* 第7部分涉及到TencentYoutuyun，所以这部分最好在Pycharm上编写运行\n",
    "* 一开始没注意，注册审核竟然需要2天，好吧等等再把最终的结果补充。这里先放个没有真正经过处理的。\n",
    "---\n",
    "#### 更新啦：实际上注册审核也没有两天，第二天早上就收到审核通过的邮件，赶紧改一下代码，但实际却返回401错误，去【[API错误码](https://open.youtu.qq.com/#/open/developer/error-code)】看了一下，是权限验证失败。但是自己是直接复制过来的呀！不会有问题，难道是uerid有错误？后来了解了不是这个原因（这里使用自己注册的qq号就可以）。在检查一下代码吧，咦，secret_id这里好像貌似大概多了个空格，试一下吧。果然，问题就出在这个空格上了！沉痛的教训，因为不仔细，浪费了大半天时间！\n",
    "---\n",
    "* <img src=\"pic/10.png\">\n",
    "* 保存的数据：\n",
    "<img src=\"pic/11.jpg\">"
   ]
  },
  {
   "cell_type": "markdown",
   "metadata": {},
   "source": [
    "### 7.3、头像大合照（最后一章节啦！）"
   ]
  },
  {
   "cell_type": "code",
   "execution_count": 2,
   "metadata": {},
   "outputs": [],
   "source": [
    "import os\n",
    "import math\n",
    "from PIL import Image\n",
    "def join_image():\n",
    "    base_path = 'headImage'\n",
    "    files = os.listdir(base_path)\n",
    "    image = Image.new('RGB', (640, 640)) #创建一个640*640的图片\n",
    "    each_size = int(math.sqrt(float(640*640)/len(files)))#计算每个图片的大小\n",
    "    lines = int(640/each_size)\n",
    "    x = 0\n",
    "    y = 0\n",
    "    for file_name in files:\n",
    "        img = Image.open(os.path.join(base_path,file_name))\n",
    "        img = img.resize((each_size,each_size),Image.ANTIALIAS)\n",
    "        image.paste(img,(x*each_size,y*each_size))\n",
    "        x += 1\n",
    "        if x ==lines:\n",
    "            x=0\n",
    "            y += 1\n",
    "    image.save('all.jpg')\n",
    "    # itchat.send_image('all.jpg','filehelper')"
   ]
  },
  {
   "cell_type": "code",
   "execution_count": 3,
   "metadata": {},
   "outputs": [],
   "source": [
    "join_image()"
   ]
  },
  {
   "cell_type": "markdown",
   "metadata": {},
   "source": [
    "* 好了，看看结果吧！粗略的看了一下，应该是没有把所有的头像都下载了，有个人的另一半就没有，哈哈，应该是不想虐狗吧\n",
    "<img src='all.jpg'>"
   ]
  },
  {
   "cell_type": "markdown",
   "metadata": {},
   "source": [
    "# 至此整个项目，历时两天结束！\n",
    "* 剩下的就反复消化吧！"
   ]
  }
 ],
 "metadata": {
  "kernelspec": {
   "display_name": "Python 3",
   "language": "python",
   "name": "python3"
  },
  "language_info": {
   "codemirror_mode": {
    "name": "ipython",
    "version": 3
   },
   "file_extension": ".py",
   "mimetype": "text/x-python",
   "name": "python",
   "nbconvert_exporter": "python",
   "pygments_lexer": "ipython3",
   "version": "3.6.4"
  }
 },
 "nbformat": 4,
 "nbformat_minor": 2
}
